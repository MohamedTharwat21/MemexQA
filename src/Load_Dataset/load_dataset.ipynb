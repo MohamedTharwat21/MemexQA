{
 "cells": [
  {
   "cell_type": "code",
   "execution_count": 6,
   "metadata": {},
   "outputs": [],
   "source": [
    "# vs code does not support connecting to linux commands so we will use pythonic code to get the data\n",
    "# !mkdir memexqa_dataset_v1.1 \n",
    "# !cd memexqa_dataset_v1.1 \n",
    "# !wget https://memexqa.cs.cmu.edu/memexqa_dataset_v1.1/album_info.json\n",
    "# !wget http://nlp.stanford.edu/data/glove.6B.zip\n",
    "# !wget https://memexqa.cs.cmu.edu/memexqa_dataset_v1.1/photos_inception_resnet_v2_l2norm.npz\n",
    "# !wget https://memexqa.cs.cmu.edu/memexqa_dataset_v1.1/qas.json\n",
    "# !wget https://memexqa.cs.cmu.edu/memexqa_dataset_v1.1/test_question.ids\n",
    "# !unzip glove.6B.zip"
   ]
  },
  {
   "cell_type": "code",
   "execution_count": null,
   "metadata": {},
   "outputs": [
    {
     "ename": "",
     "evalue": "",
     "output_type": "error",
     "traceback": [
      "\u001b[1;31mThe kernel failed to start as the Python Environment 'Python 3.11.5' is no longer available. Consider selecting another kernel or refreshing the list of Python Environments."
     ]
    }
   ],
   "source": [
    "# this is the first time to write here "
   ]
  },
  {
   "cell_type": "markdown",
   "metadata": {},
   "source": [
    "## Downloading the files "
   ]
  },
  {
   "cell_type": "code",
   "execution_count": 7,
   "metadata": {},
   "outputs": [
    {
     "name": "stdout",
     "output_type": "stream",
     "text": [
      "Downloaded album_info.json\n"
     ]
    }
   ],
   "source": [
    "import requests\n",
    "\n",
    "url = \"https://memexqa.cs.cmu.edu/memexqa_dataset_v1.1/album_info.json\"\n",
    "filename = \"album_info.json\"\n",
    "\n",
    "response = requests.get(url)\n",
    "\n",
    "if response.status_code == 200:\n",
    "    with open(filename, 'wb') as f:\n",
    "        f.write(response.content)\n",
    "    print(f\"Downloaded {filename}\")\n",
    "else:\n",
    "    print(f\"Failed to download {filename}\")"
   ]
  },
  {
   "cell_type": "code",
   "execution_count": 8,
   "metadata": {},
   "outputs": [
    {
     "name": "stdout",
     "output_type": "stream",
     "text": [
      "Downloaded photos_inception_resnet_v2_l2norm.npz\n"
     ]
    }
   ],
   "source": [
    "url = \"https://memexqa.cs.cmu.edu/memexqa_dataset_v1.1/photos_inception_resnet_v2_l2norm.npz\"\n",
    "filename = \"photos_inception_resnet_v2_l2norm.npz\"\n",
    "\n",
    "response = requests.get(url)\n",
    "\n",
    "if response.status_code == 200:\n",
    "    with open(filename, 'wb') as f:\n",
    "        f.write(response.content)\n",
    "    print(f\"Downloaded {filename}\")\n",
    "else:\n",
    "    print(f\"Failed to download {filename}\")"
   ]
  },
  {
   "cell_type": "code",
   "execution_count": 9,
   "metadata": {},
   "outputs": [
    {
     "name": "stdout",
     "output_type": "stream",
     "text": [
      "Downloaded qas.json\n"
     ]
    }
   ],
   "source": [
    "url = \"https://memexqa.cs.cmu.edu/memexqa_dataset_v1.1/qas.json\"\n",
    "filename = \"qas.json\"\n",
    "\n",
    "response = requests.get(url)\n",
    "\n",
    "if response.status_code == 200:\n",
    "    with open(filename, 'wb') as f:\n",
    "        f.write(response.content)\n",
    "    print(f\"Downloaded {filename}\")\n",
    "else:\n",
    "    print(f\"Failed to download {filename}\")"
   ]
  },
  {
   "cell_type": "code",
   "execution_count": 10,
   "metadata": {},
   "outputs": [
    {
     "name": "stdout",
     "output_type": "stream",
     "text": [
      "Downloaded test_question.ids\n"
     ]
    }
   ],
   "source": [
    "url = \"https://memexqa.cs.cmu.edu/memexqa_dataset_v1.1/test_question.ids\"\n",
    "filename = \"test_question.ids\"\n",
    "\n",
    "response = requests.get(url)\n",
    "\n",
    "if response.status_code == 200:\n",
    "    with open(filename, 'wb') as f:\n",
    "        f.write(response.content)\n",
    "    print(f\"Downloaded {filename}\")\n",
    "else:\n",
    "    print(f\"Failed to download {filename}\")"
   ]
  },
  {
   "cell_type": "code",
   "execution_count": 11,
   "metadata": {},
   "outputs": [
    {
     "name": "stdout",
     "output_type": "stream",
     "text": [
      "Downloaded glove.6B.zip\n"
     ]
    }
   ],
   "source": [
    "url = \"http://nlp.stanford.edu/data/glove.6B.zip\"\n",
    "filename = \"glove.6B.zip\"\n",
    "\n",
    "response = requests.get(url)\n",
    "\n",
    "if response.status_code == 200:\n",
    "    with open(filename, 'wb') as f:\n",
    "        f.write(response.content)\n",
    "    print(f\"Downloaded {filename}\")\n",
    "else:\n",
    "    print(f\"Failed to download {filename}\")"
   ]
  },
  {
   "cell_type": "markdown",
   "metadata": {},
   "source": [
    "## Unzip Glove Word Vectors"
   ]
  },
  {
   "cell_type": "code",
   "execution_count": 12,
   "metadata": {},
   "outputs": [
    {
     "name": "stdout",
     "output_type": "stream",
     "text": [
      "Extracted glove.6B.zip\n"
     ]
    }
   ],
   "source": [
    "import zipfile\n",
    "\n",
    "with zipfile.ZipFile(\"glove.6B.zip\", 'r') as zip_ref:\n",
    "    zip_ref.extractall()\n",
    "print(\"Extracted glove.6B.zip\")"
   ]
  }
 ],
 "metadata": {
  "kernelspec": {
   "display_name": "Python 3",
   "language": "python",
   "name": "python3"
  },
  "language_info": {
   "codemirror_mode": {
    "name": "ipython",
    "version": 3
   },
   "file_extension": ".py",
   "mimetype": "text/x-python",
   "name": "python",
   "nbconvert_exporter": "python",
   "pygments_lexer": "ipython3",
   "version": "3.11.5"
  }
 },
 "nbformat": 4,
 "nbformat_minor": 2
}
